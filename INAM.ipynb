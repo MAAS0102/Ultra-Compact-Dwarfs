{
 "cells": [
  {
   "cell_type": "code",
   "execution_count": 2,
   "id": "7e8ae268-2a0c-4470-bb28-3585dc182fd4",
   "metadata": {
    "tags": []
   },
   "outputs": [],
   "source": [
    "import numpy as np\n",
    "import tangos as db\n",
    "import pickle as pck\n",
    "import pynbody\n",
    "import matplotlib.pyplot as plt\n",
    "import scipy.integrate as integ\n",
    "import math as ma\n",
    "plt.ion()\n",
    "\n",
    "plt.rcParams['figure.figsize'] = (12, 9) \n",
    "plt.rcParams['font.size'] = 20  \n",
    "plt.rcParams['font.family'] = 'sans-serif' \n",
    "plt.rcParams['xtick.major.size'] = 10 \n",
    "plt.rcParams['xtick.major.width'] = 2\n",
    "plt.rcParams['ytick.major.size'] = 10\n",
    "plt.rcParams['ytick.major.width'] = 2\n",
    "plt.rcParams['xtick.minor.size'] = 5\n",
    "plt.rcParams['xtick.minor.width'] = 1\n",
    "plt.rcParams['ytick.minor.size'] = 5\n",
    "plt.rcParams['ytick.minor.width'] = 1\n",
    "\n",
    "sim = db.get_simulation('h1.cosmo50')"
   ]
  },
  {
   "cell_type": "code",
   "execution_count": null,
   "id": "8ca146e4-3b30-4375-afc9-a6cce72df8b0",
   "metadata": {},
   "outputs": [],
   "source": [
    "6.196516010055769, -1.0085470085470085\n",
    "6.306957862430051, -1.623931623931624\n",
    "6.550481367511049, -1.4529914529914532\n",
    "6.413770282961059, -1.0854700854700856\n",
    "6.5273988144148545, -0.9230769230769229\n",
    "6.623456093085699, -1.0085470085470085\n",
    "6.6519004697773365, -0.9401709401709399\n",
    "6.675746838633057, -1.367521367521367\n",
    "6.7846110587675525, -1.1367521367521367\n",
    "6.820355563619487, -1.017094017094017\n",
    "6.8664588931801145, -0.7606837606837606\n",
    "6.955808867934401, -0.4017094017094016\n",
    "6.762724423414982, 0.02564102564102555\n",
    "7.02299492112329, -1.0598290598290596\n",
    "6.981224042789781, -0.683760683760684\n",
    "6.958141058487711, -2.6923076923076925\n",
    "7.237440405212404, -1.4102564102564101\n",
    "7.142972414776699, -1.2136752136752134\n",
    "7.118750800192833, -0.4017094017094016\n",
    "7.263444546357708, -0.8205128205128203\n",
    "7.317417874788983, -1.1538461538461537\n",
    "7.338816994694139, -0.974358974358974\n",
    "7.452772762210286, -1.367521367521367\n",
    "7.657173238902825, -1.1111111111111112\n",
    "7.853464822776638, -1.5470085470085473\n",
    "7.868482503018319, -0.5042735042735038\n"
   ]
  },
  {
   "cell_type": "code",
   "execution_count": null,
   "id": "5108d8a2-e84f-4d55-983e-86f7e9126d98",
   "metadata": {},
   "outputs": [],
   "source": [
    "4.438690290782157, -1.655394810056149\n",
    "4.799002565983596, -1.458343871718347\n",
    "4.8528099978163866, -1.015099398047448\n",
    "4.999264357433208, -1.0909757701451772\n",
    "4.999264357433208, -1.3834286003338567\n",
    "5.295715934885692, -1.167231524103395\n",
    "5.246738588658755, -1.025595629520967\n",
    "5.266274935294701, -0.9218726288633725\n",
    "5.355092622073142, -0.9598361070362693\n",
    "5.475850692837808, -0.997875461581264\n",
    "5.620181110106127, -1.0548333249026256\n",
    "5.588936279039202, -1.2057008447569428\n",
    "5.725597573909202, -1.3947088876523854\n",
    "5.496240143437311, -1.4224543477161218\n",
    "5.920354835399216, -1.5838433911679912\n",
    "5.81135261106351, -1.1590621680408724\n",
    "6.020203823127447, -0.9897313976427746\n",
    "6.201889299392867, -1.1222115433254092\n",
    "6.110371320207809, -0.8578582629369218\n",
    "5.942399406958806, -0.697101522585867\n",
    "5.7362473637433276, -0.7815266326066066\n",
    "6.400941761045395, -0.3962264150943402\n",
    "6.47271047396804, 0.03758409631240767\n",
    "7.129397500523683, -0.5014669431938903"
   ]
  },
  {
   "cell_type": "code",
   "execution_count": 4,
   "id": "dc717719-2350-4d44-8fe8-bf3c4648c56d",
   "metadata": {
    "tags": []
   },
   "outputs": [],
   "source": [
    "def BHMstar(logMstar):\n",
    "    '''\n",
    "    BH mass given a stellar mass\n",
    "    based on analysis by Haring and Rix 2004 and Schramm + Silverman 2013\n",
    "    '''\n",
    "    c = 8.31\n",
    "    a = 1.12\n",
    "    b = 11.\n",
    "    predlogMBH = c + a * (logMstar-b)\n",
    "    return predlogMBH\n",
    "\n",
    "\n",
    "def BHMBulge(logMbulge):\n",
    "    '''\n",
    "    BH mass given a bulge mass\n",
    "    based on analysis by Haring and Rix 2004 and Kormendy and Ho 2013\n",
    "    '''\n",
    "    c = 8.69\n",
    "    a = 1.16\n",
    "    b = 11.\n",
    "    predlogMBH = c + a * (logMbulge-b)\n",
    "    return predlogMBH"
   ]
  },
  {
   "cell_type": "code",
   "execution_count": 5,
   "id": "68ddccbf-d1cf-47df-9023-525d4eabfbd9",
   "metadata": {
    "tags": []
   },
   "outputs": [],
   "source": [
    "def new_mass_int(a,b,r_min=0.35,r_max=0.7):\n",
    "    \n",
    "    m1 = ((4*np.pi*a)/(3-b))*((r_max**(3-b))-(r_min**(3-b)))\n",
    "    m2 = ((a*(r_min)**(-b))*((4/3)*np.pi*(0.35)**3))\n",
    "    # print(m1)\n",
    "    # print(m2)\n",
    "    m = m1+m2\n",
    "    \n",
    "    return m"
   ]
  },
  {
   "cell_type": "code",
   "execution_count": 6,
   "id": "0ef2b966-0f6f-436c-979f-568594d48d40",
   "metadata": {
    "tags": []
   },
   "outputs": [
    {
     "name": "stdout",
     "output_type": "stream",
     "text": [
      "[array([3.83701369e+12, 4.99869851e+11, 1.28152271e+11, ...,\n",
      "       0.00000000e+00, 0.00000000e+00, 0.00000000e+00])]\n",
      "[12.58399335 11.69885694 11.10772631 ...  5.19666181  5.19640813\n",
      "  4.89538138]\n",
      "4240\n",
      "2607\n",
      "[10.08407255  9.09271978  8.43065346 ...  1.81026122  1.80997711\n",
      "  1.47282715]\n"
     ]
    }
   ],
   "source": [
    "step = sim.timesteps[-1]\n",
    "mstar = step.calculate_all('Mstar')\n",
    "Mstar = np.array(mstar)\n",
    "ok = np.where(Mstar>0)\n",
    "logMstar = np.log10(Mstar[ok])\n",
    "\n",
    "print(mstar)\n",
    "print(logMstar)\n",
    "print(len(Mstar[0]))\n",
    "print(len(Mstar[ok]))\n",
    "logmBH = []\n",
    "\n",
    "for i in range(len(Mstar[ok])):\n",
    "    logmbh = BHMstar(logMstar[i])\n",
    "    logmBH.append(logmbh)\n",
    "logMBH = np.array(logmBH)\n",
    "\n",
    "print(logMBH)\n",
    "\n",
    "#plt.plot(logMstar,logMBH)\n",
    "#plt.scatter(logMBH,logMstar)"
   ]
  },
  {
   "cell_type": "code",
   "execution_count": 7,
   "id": "f9f48a93-d129-4b40-88ce-b4cb9f8d0ba5",
   "metadata": {
    "tags": []
   },
   "outputs": [],
   "source": [
    "f = open('Outside_halo.pkl','rb')\n",
    "data = pck.load(f)\n",
    "f.close()\n"
   ]
  },
  {
   "cell_type": "code",
   "execution_count": 8,
   "id": "d7c2db54-ccc1-4eae-9260-f4fdcaa6d363",
   "metadata": {
    "tags": []
   },
   "outputs": [
    {
     "ename": "KeyError",
     "evalue": "'bad_ids'",
     "output_type": "error",
     "traceback": [
      "\u001b[0;31m---------------------------------------------------------------------------\u001b[0m",
      "\u001b[0;31mKeyError\u001b[0m                                  Traceback (most recent call last)",
      "Cell \u001b[0;32mIn[8], line 4\u001b[0m\n\u001b[1;32m      2\u001b[0m my_saved_data \u001b[38;5;241m=\u001b[39m pck\u001b[38;5;241m.\u001b[39mload(f)\n\u001b[1;32m      3\u001b[0m f\u001b[38;5;241m.\u001b[39mclose()\n\u001b[0;32m----> 4\u001b[0m ids\u001b[38;5;241m=\u001b[39m\u001b[43mmy_saved_data\u001b[49m\u001b[43m[\u001b[49m\u001b[38;5;124;43m'\u001b[39;49m\u001b[38;5;124;43mbad_ids\u001b[39;49m\u001b[38;5;124;43m'\u001b[39;49m\u001b[43m]\u001b[49m\n\u001b[1;32m      6\u001b[0m halo \u001b[38;5;241m=\u001b[39m db\u001b[38;5;241m.\u001b[39mget_halo(\u001b[38;5;124m'\u001b[39m\u001b[38;5;124mh1.cosmo50/\u001b[39m\u001b[38;5;124m%\u001b[39m\u001b[38;5;124m4096/1\u001b[39m\u001b[38;5;124m'\u001b[39m)\n\u001b[1;32m      7\u001b[0m all_bhs_h1 \u001b[38;5;241m=\u001b[39m halo[\u001b[38;5;124m'\u001b[39m\u001b[38;5;124mBH_central\u001b[39m\u001b[38;5;124m'\u001b[39m]\n",
      "\u001b[0;31mKeyError\u001b[0m: 'bad_ids'"
     ]
    }
   ],
   "source": [
    "f = open('ErrorIDS.pkl','rb')\n",
    "my_saved_data = pck.load(f)\n",
    "f.close()\n",
    "ids=my_saved_data['bad_ids']\n",
    "\n",
    "halo = db.get_halo('h1.cosmo50/%4096/1')\n",
    "all_bhs_h1 = halo['BH_central']\n",
    "all_ids = []\n",
    "\n",
    "error_indices = []\n",
    "\n",
    "for i in range(2193):\n",
    "    \n",
    "    all_ids.append(all_bhs_h1[i].halo_number)\n",
    "    \n",
    "for i in range(2193):\n",
    "    if all_ids[i] in ids:\n",
    "        error_indices.append(i)\n",
    "        \n",
    "h1_ids = np.arange(0,2193,1) \n",
    "\n",
    "new_ids = np.delete(h1_ids,error_indices)\n",
    "print(len(new_ids))\n"
   ]
  },
  {
   "cell_type": "code",
   "execution_count": null,
   "id": "0eca34d9-094a-4345-b4e9-e558acae1bee",
   "metadata": {
    "tags": []
   },
   "outputs": [],
   "source": [
    "gal_mass = np.array(data['gal_mass'])\n",
    "bh_mass = np.array(data['bh_mass'])\n",
    "sim_mass = np.array(data['sim_mass'])\n",
    "time = np.array(data['time'])\n",
    "dist = np.array(data['cluster_dist'])"
   ]
  },
  {
   "cell_type": "code",
   "execution_count": 25,
   "id": "7c88a8cb-bb2b-48fb-9683-473be8d4014f",
   "metadata": {
    "tags": []
   },
   "outputs": [],
   "source": [
    "f = open('Extrapolation_Outputs.pkl','rb')\n",
    "data = pck.load(f)\n",
    "f.close()\n",
    "\n",
    "a = np.array(data['a'])\n",
    "b = np.array(data['b'])\n",
    "\n",
    "#bad_mass=[]\n",
    "mass=[]\n",
    "\n",
    "#bad = np.where(b>2.999)\n",
    "#good = np.where(b<=2.999)\n",
    "\n",
    "for i in range(len(b)):\n",
    "    m = new_mass_int(a[i],b[i],r_min=0.35)\n",
    "    mass.append(m)\n",
    "\n",
    "data_to_file = {'mass':mass}\n",
    "f = open('UCD_proxy.pkl','wb')\n",
    "pck.dump(data_to_file,f)\n",
    "f.close()"
   ]
  },
  {
   "cell_type": "code",
   "execution_count": 9,
   "id": "66bc0d86-3475-4fd2-8429-47ccbb2029be",
   "metadata": {
    "tags": []
   },
   "outputs": [
    {
     "ename": "NameError",
     "evalue": "name 'gal_mass' is not defined",
     "output_type": "error",
     "traceback": [
      "\u001b[0;31m---------------------------------------------------------------------------\u001b[0m",
      "\u001b[0;31mNameError\u001b[0m                                 Traceback (most recent call last)",
      "Cell \u001b[0;32mIn[9], line 2\u001b[0m\n\u001b[1;32m      1\u001b[0m Mbh \u001b[38;5;241m=\u001b[39m []\n\u001b[0;32m----> 2\u001b[0m mstar \u001b[38;5;241m=\u001b[39m np\u001b[38;5;241m.\u001b[39mlog10(\u001b[43mgal_mass\u001b[49m[ok])\n\u001b[1;32m      3\u001b[0m \u001b[38;5;28;01mfor\u001b[39;00m i \u001b[38;5;129;01min\u001b[39;00m \u001b[38;5;28mrange\u001b[39m(\u001b[38;5;28mlen\u001b[39m(mstar)):\n\u001b[1;32m      4\u001b[0m     mbh \u001b[38;5;241m=\u001b[39m BHMstar(mstar[i])\n",
      "\u001b[0;31mNameError\u001b[0m: name 'gal_mass' is not defined"
     ]
    }
   ],
   "source": [
    "Mbh = []\n",
    "mstar = np.log10(gal_mass[ok])\n",
    "for i in range(len(mstar)):\n",
    "    mbh = BHMstar(mstar[i])\n",
    "    Mbh.append(mbh)\n"
   ]
  },
  {
   "cell_type": "code",
   "execution_count": 10,
   "id": "abb1d850-dee8-46a4-9158-f73755b08330",
   "metadata": {
    "tags": []
   },
   "outputs": [
    {
     "ename": "NameError",
     "evalue": "name 'mass' is not defined",
     "output_type": "error",
     "traceback": [
      "\u001b[0;31m---------------------------------------------------------------------------\u001b[0m",
      "\u001b[0;31mNameError\u001b[0m                                 Traceback (most recent call last)",
      "Cell \u001b[0;32mIn[10], line 2\u001b[0m\n\u001b[1;32m      1\u001b[0m Mbh_bulge \u001b[38;5;241m=\u001b[39m []\n\u001b[0;32m----> 2\u001b[0m mbulge \u001b[38;5;241m=\u001b[39m np\u001b[38;5;241m.\u001b[39mlog10(\u001b[43mmass\u001b[49m)\n\u001b[1;32m      3\u001b[0m \u001b[38;5;66;03m#print(mass)\u001b[39;00m\n\u001b[1;32m      4\u001b[0m \u001b[38;5;66;03m#print(mbulge)\u001b[39;00m\n\u001b[1;32m      5\u001b[0m \u001b[38;5;28;01mfor\u001b[39;00m i \u001b[38;5;129;01min\u001b[39;00m \u001b[38;5;28mrange\u001b[39m(\u001b[38;5;28mlen\u001b[39m(mass)):\n",
      "\u001b[0;31mNameError\u001b[0m: name 'mass' is not defined"
     ]
    }
   ],
   "source": [
    "Mbh_bulge = []\n",
    "mbulge = np.log10(mass)\n",
    "#print(mass)\n",
    "#print(mbulge)\n",
    "for i in range(len(mass)):\n",
    "    mbh = BHMBulge(mbulge[i])\n",
    "    Mbh_bulge.append(mbh)\n",
    "    \n",
    "#plt.plot(mbulge,Mbh_bulge)"
   ]
  },
  {
   "cell_type": "code",
   "execution_count": 26,
   "id": "a480525d-1915-471e-8bb0-e0c6a6507fb4",
   "metadata": {
    "tags": []
   },
   "outputs": [
    {
     "ename": "NameError",
     "evalue": "name 'bh_mass' is not defined",
     "output_type": "error",
     "traceback": [
      "\u001b[0;31m---------------------------------------------------------------------------\u001b[0m",
      "\u001b[0;31mNameError\u001b[0m                                 Traceback (most recent call last)",
      "Cell \u001b[0;32mIn[26], line 2\u001b[0m\n\u001b[1;32m      1\u001b[0m ok \u001b[38;5;241m=\u001b[39m np\u001b[38;5;241m.\u001b[39mwhere(b\u001b[38;5;241m<\u001b[39m\u001b[38;5;241m=\u001b[39m\u001b[38;5;241m2.999\u001b[39m)\n\u001b[0;32m----> 2\u001b[0m plt\u001b[38;5;241m.\u001b[39mscatter(np\u001b[38;5;241m.\u001b[39mlog10(mass),np\u001b[38;5;241m.\u001b[39mlog10(\u001b[43mbh_mass\u001b[49m),label \u001b[38;5;241m=\u001b[39m \u001b[38;5;124m'\u001b[39m\u001b[38;5;124mExtrapolated UCD proxy\u001b[39m\u001b[38;5;124m'\u001b[39m,c\u001b[38;5;241m=\u001b[39m\u001b[38;5;124m'\u001b[39m\u001b[38;5;124mmediumvioletred\u001b[39m\u001b[38;5;124m'\u001b[39m,marker\u001b[38;5;241m=\u001b[39m\u001b[38;5;124m'\u001b[39m\u001b[38;5;124mp\u001b[39m\u001b[38;5;124m'\u001b[39m)\n\u001b[1;32m      3\u001b[0m \u001b[38;5;66;03m#ok_line = np.where(logMBH>2)\u001b[39;00m\n\u001b[1;32m      4\u001b[0m \u001b[38;5;66;03m#plt.plot(mbulge,Mbh_bulge,label='Pred. Kormendy and Ho 2013',c='darkblue',lw=3)\u001b[39;00m\n\u001b[1;32m      5\u001b[0m \u001b[38;5;66;03m#plt.scatter(np.log10(gal_mass[ok]),np.log10(bh_mass[ok]),label='Host Galaxy')\u001b[39;00m\n\u001b[1;32m      7\u001b[0m plt\u001b[38;5;241m.\u001b[39mylabel(\u001b[38;5;124m'\u001b[39m\u001b[38;5;124mLog10 SMBH Mass [M$_\u001b[39m\u001b[38;5;124m{\u001b[39m\u001b[38;5;124m\\\u001b[39m\u001b[38;5;124modot}$]\u001b[39m\u001b[38;5;124m'\u001b[39m)\n",
      "\u001b[0;31mNameError\u001b[0m: name 'bh_mass' is not defined"
     ]
    }
   ],
   "source": [
    "ok = np.where(b<=2.999)\n",
    "plt.scatter(np.log10(mass),np.log10(bh_mass),label = 'Extrapolated UCD proxy',c='mediumvioletred',marker='p')\n",
    "#ok_line = np.where(logMBH>2)\n",
    "#plt.plot(mbulge,Mbh_bulge,label='Pred. Kormendy and Ho 2013',c='darkblue',lw=3)\n",
    "#plt.scatter(np.log10(gal_mass[ok]),np.log10(bh_mass[ok]),label='Host Galaxy')\n",
    "\n",
    "plt.ylabel('Log10 SMBH Mass [M$_{\\odot}$]')\n",
    "plt.xlabel('Log10 Mstar [M$_{\\odot}$]')\n",
    "plt.legend(loc='lower right')\n",
    "plt.savefig('bhmass_mstar_prediction.png')"
   ]
  },
  {
   "cell_type": "code",
   "execution_count": 12,
   "id": "bc55cb48-2649-4ed9-b4a5-7ad0f4953a92",
   "metadata": {
    "tags": []
   },
   "outputs": [
    {
     "ename": "NameError",
     "evalue": "name 'time' is not defined",
     "output_type": "error",
     "traceback": [
      "\u001b[0;31m---------------------------------------------------------------------------\u001b[0m",
      "\u001b[0;31mNameError\u001b[0m                                 Traceback (most recent call last)",
      "Cell \u001b[0;32mIn[12], line 1\u001b[0m\n\u001b[0;32m----> 1\u001b[0m plt\u001b[38;5;241m.\u001b[39mscatter(\u001b[43mtime\u001b[49m[ok],gal_mass[ok],c \u001b[38;5;241m=\u001b[39m np\u001b[38;5;241m.\u001b[39mlog10(mass),cmap \u001b[38;5;241m=\u001b[39m \u001b[38;5;124m'\u001b[39m\u001b[38;5;124mplasma\u001b[39m\u001b[38;5;124m'\u001b[39m,marker\u001b[38;5;241m=\u001b[39m\u001b[38;5;124m'\u001b[39m\u001b[38;5;124mp\u001b[39m\u001b[38;5;124m'\u001b[39m)\n\u001b[1;32m      2\u001b[0m plt\u001b[38;5;241m.\u001b[39myscale(\u001b[38;5;124m'\u001b[39m\u001b[38;5;124mlog\u001b[39m\u001b[38;5;124m'\u001b[39m)\n\u001b[1;32m      3\u001b[0m plt\u001b[38;5;241m.\u001b[39mcolorbar(label\u001b[38;5;241m=\u001b[39m\u001b[38;5;124m'\u001b[39m\u001b[38;5;124mLog10 Extrapolated Mass within 0.7kpc [M$_\u001b[39m\u001b[38;5;124m{\u001b[39m\u001b[38;5;124m\\\u001b[39m\u001b[38;5;124modot}$] \u001b[39m\u001b[38;5;130;01m\\n\u001b[39;00m\u001b[38;5;124m (UCD proxy mass)\u001b[39m\u001b[38;5;124m'\u001b[39m)\n",
      "\u001b[0;31mNameError\u001b[0m: name 'time' is not defined"
     ]
    }
   ],
   "source": [
    "plt.scatter(time[ok],gal_mass[ok],c = np.log10(mass),cmap = 'plasma',marker='p')\n",
    "plt.yscale('log')\n",
    "plt.colorbar(label='Log10 Extrapolated Mass within 0.7kpc [M$_{\\odot}$] \\n (UCD proxy mass)')\n",
    "plt.xlabel('Time nearest infall [Gyr]')\n",
    "plt.ylabel('Log10 Original Host Mstar [M$_{\\odot}$]')\n",
    "plt.savefig('hostmstar_time_ucdproxy.png')"
   ]
  },
  {
   "cell_type": "code",
   "execution_count": 13,
   "id": "933e3a26-192c-4f9b-83bb-c106a6765977",
   "metadata": {
    "tags": []
   },
   "outputs": [
    {
     "ename": "NameError",
     "evalue": "name 'dist' is not defined",
     "output_type": "error",
     "traceback": [
      "\u001b[0;31m---------------------------------------------------------------------------\u001b[0m",
      "\u001b[0;31mNameError\u001b[0m                                 Traceback (most recent call last)",
      "Cell \u001b[0;32mIn[13], line 1\u001b[0m\n\u001b[0;32m----> 1\u001b[0m plt\u001b[38;5;241m.\u001b[39mscatter(\u001b[43mdist\u001b[49m[ok],time[ok],c\u001b[38;5;241m=\u001b[39mnp\u001b[38;5;241m.\u001b[39mlog10(gal_mass[ok]),cmap\u001b[38;5;241m=\u001b[39m\u001b[38;5;124m'\u001b[39m\u001b[38;5;124mplasma\u001b[39m\u001b[38;5;124m'\u001b[39m,vmax\u001b[38;5;241m=\u001b[39m\u001b[38;5;241m9.5\u001b[39m,vmin\u001b[38;5;241m=\u001b[39m\u001b[38;5;241m6.5\u001b[39m,marker\u001b[38;5;241m=\u001b[39m\u001b[38;5;124m'\u001b[39m\u001b[38;5;124mp\u001b[39m\u001b[38;5;124m'\u001b[39m)\n\u001b[1;32m      2\u001b[0m plt\u001b[38;5;241m.\u001b[39mcolorbar(label\u001b[38;5;241m=\u001b[39m\u001b[38;5;124m'\u001b[39m\u001b[38;5;124mLog10 Host Galaxy Mstar [M$_\u001b[39m\u001b[38;5;124m{\u001b[39m\u001b[38;5;124m\\\u001b[39m\u001b[38;5;124modot}$]\u001b[39m\u001b[38;5;124m'\u001b[39m)\n\u001b[1;32m      3\u001b[0m plt\u001b[38;5;241m.\u001b[39mxlabel(\u001b[38;5;124m'\u001b[39m\u001b[38;5;124mDistance from the centre of the cluster at z=0 [kpc]\u001b[39m\u001b[38;5;124m'\u001b[39m)\n",
      "\u001b[0;31mNameError\u001b[0m: name 'dist' is not defined"
     ]
    }
   ],
   "source": [
    "plt.scatter(dist[ok],time[ok],c=np.log10(gal_mass[ok]),cmap='plasma',vmax=9.5,vmin=6.5,marker='p')\n",
    "plt.colorbar(label='Log10 Host Galaxy Mstar [M$_{\\odot}$]')\n",
    "plt.xlabel('Distance from the centre of the cluster at z=0 [kpc]')\n",
    "plt.ylabel('Time nearest infall [Gyr]')\n",
    "plt.savefig('time_dist_hostmstar.png')"
   ]
  },
  {
   "cell_type": "code",
   "execution_count": 14,
   "id": "24fa04ee-3edc-46c2-b416-51304eb31633",
   "metadata": {},
   "outputs": [
    {
     "ename": "NameError",
     "evalue": "name 'dist' is not defined",
     "output_type": "error",
     "traceback": [
      "\u001b[0;31m---------------------------------------------------------------------------\u001b[0m",
      "\u001b[0;31mNameError\u001b[0m                                 Traceback (most recent call last)",
      "Cell \u001b[0;32mIn[14], line 1\u001b[0m\n\u001b[0;32m----> 1\u001b[0m plt\u001b[38;5;241m.\u001b[39mscatter(\u001b[43mdist\u001b[49m[ok],time[ok],c\u001b[38;5;241m=\u001b[39mnp\u001b[38;5;241m.\u001b[39mlog10(mass),cmap\u001b[38;5;241m=\u001b[39m\u001b[38;5;124m'\u001b[39m\u001b[38;5;124mplasma\u001b[39m\u001b[38;5;124m'\u001b[39m,vmax\u001b[38;5;241m=\u001b[39m\u001b[38;5;241m9.5\u001b[39m,vmin\u001b[38;5;241m=\u001b[39m\u001b[38;5;241m6.5\u001b[39m,marker\u001b[38;5;241m=\u001b[39m\u001b[38;5;124m'\u001b[39m\u001b[38;5;124mp\u001b[39m\u001b[38;5;124m'\u001b[39m)\n\u001b[1;32m      2\u001b[0m plt\u001b[38;5;241m.\u001b[39mcolorbar(label\u001b[38;5;241m=\u001b[39m\u001b[38;5;124m'\u001b[39m\u001b[38;5;124mLog10 Extrapolated Mass within 0.7kpc [M$_\u001b[39m\u001b[38;5;124m{\u001b[39m\u001b[38;5;124m\\\u001b[39m\u001b[38;5;124modot}$] \u001b[39m\u001b[38;5;130;01m\\n\u001b[39;00m\u001b[38;5;124m (UCD proxy mass)\u001b[39m\u001b[38;5;124m'\u001b[39m)\n\u001b[1;32m      3\u001b[0m plt\u001b[38;5;241m.\u001b[39mxlabel(\u001b[38;5;124m'\u001b[39m\u001b[38;5;124mDistance from the centre of the cluster at z=0 [kpc]\u001b[39m\u001b[38;5;124m'\u001b[39m)\n",
      "\u001b[0;31mNameError\u001b[0m: name 'dist' is not defined"
     ]
    }
   ],
   "source": [
    "plt.scatter(dist[ok],time[ok],c=np.log10(mass),cmap='plasma',vmax=9.5,vmin=6.5,marker='p')\n",
    "plt.colorbar(label='Log10 Extrapolated Mass within 0.7kpc [M$_{\\odot}$] \\n (UCD proxy mass)')\n",
    "plt.xlabel('Distance from the centre of the cluster at z=0 [kpc]')\n",
    "plt.ylabel('Time nearest infall [Gyr]')\n",
    "plt.savefig('time_dist_ucdproxy.png')"
   ]
  },
  {
   "cell_type": "code",
   "execution_count": 27,
   "id": "2fc8ff0d-5b08-4587-a00b-95b22f7f4065",
   "metadata": {
    "tags": []
   },
   "outputs": [
    {
     "name": "stderr",
     "output_type": "stream",
     "text": [
      "No artists with labels found to put in legend.  Note that artists whose label start with an underscore are ignored when legend() is called with no argument.\n",
      "/tmp/ipykernel_1116730/3287462036.py:7: MatplotlibDeprecationWarning: The get_cmap function was deprecated in Matplotlib 3.7 and will be removed two minor releases later. Use ``matplotlib.colormaps[name]`` or ``matplotlib.colormaps.get_cmap(obj)`` instead.\n",
      "  cm = plt.cm.get_cmap('plasma')\n"
     ]
    },
    {
     "data": {
      "image/png": "[encoded data removed]",
      "text/plain": [
       "<Figure size 1200x900 with 1 Axes>"
      ]
     },
     "metadata": {},
     "output_type": "display_data"
    }
   ],
   "source": [
    "n, bins, patches = plt.hist(b,histtype='bar',lw=3,density=True,bins=20,color='mediumvioletred',ec='darkblue')\n",
    "#type(my_saved_data4['Gamma'])\n",
    "#plt.title('Distribution of Gamma using radius (0.7-1.75)kpc')\n",
    "plt.ylabel('Frequency')\n",
    "plt.xlabel('$\\gamma$')\n",
    "plt.legend(loc='upper right')\n",
    "cm = plt.cm.get_cmap('plasma')\n",
    "\n",
    "bin_centers = 0.5 * (bins[:-1] + bins[1:])\n",
    "\n",
    "col = bin_centers - min(bin_centers)\n",
    "col /= max(col)\n",
    "\n",
    "for c, p in zip(col, patches):\n",
    "    plt.setp(p, 'facecolor', cm(c))\n",
    "plt.savefig('gamma_distibution.png')"
   ]
  },
  {
   "cell_type": "code",
   "execution_count": 23,
   "id": "ae20c398-27ab-4d17-9147-491eb4e4c060",
   "metadata": {
    "tags": []
   },
   "outputs": [
    {
     "ename": "NameError",
     "evalue": "name 'dist' is not defined",
     "output_type": "error",
     "traceback": [
      "\u001b[0;31m---------------------------------------------------------------------------\u001b[0m",
      "\u001b[0;31mNameError\u001b[0m                                 Traceback (most recent call last)",
      "Cell \u001b[0;32mIn[23], line 1\u001b[0m\n\u001b[0;32m----> 1\u001b[0m plt\u001b[38;5;241m.\u001b[39mscatter(\u001b[43mdist\u001b[49m[ok],mass,c\u001b[38;5;241m=\u001b[39mnp\u001b[38;5;241m.\u001b[39mlog10(gal_mass[ok]),cmap\u001b[38;5;241m=\u001b[39m\u001b[38;5;124m'\u001b[39m\u001b[38;5;124mplasma\u001b[39m\u001b[38;5;124m'\u001b[39m,marker\u001b[38;5;241m=\u001b[39m\u001b[38;5;124m'\u001b[39m\u001b[38;5;124mp\u001b[39m\u001b[38;5;124m'\u001b[39m)\n\u001b[1;32m      2\u001b[0m plt\u001b[38;5;241m.\u001b[39myscale(\u001b[38;5;124m'\u001b[39m\u001b[38;5;124mlog\u001b[39m\u001b[38;5;124m'\u001b[39m)\n\u001b[1;32m      3\u001b[0m plt\u001b[38;5;241m.\u001b[39mcolorbar(label\u001b[38;5;241m=\u001b[39m\u001b[38;5;124m'\u001b[39m\u001b[38;5;124mLog10 Origianl Host Galaxy Mstar [M$_\u001b[39m\u001b[38;5;124m{\u001b[39m\u001b[38;5;124m\\\u001b[39m\u001b[38;5;124modot}$]\u001b[39m\u001b[38;5;124m'\u001b[39m)\n",
      "\u001b[0;31mNameError\u001b[0m: name 'dist' is not defined"
     ]
    }
   ],
   "source": [
    "plt.scatter(dist[ok],mass,c=np.log10(gal_mass[ok]),cmap='plasma',marker='p')\n",
    "plt.yscale('log')\n",
    "plt.colorbar(label='Log10 Origianl Host Galaxy Mstar [M$_{\\odot}$]')\n",
    "plt.xlabel('Distance from the centre of the cluster at z=0 [kpc]')\n",
    "plt.ylabel('Log10 Extrapolated Mstar within 0.7kpc [M$_{\\odot}$] \\n (UCD proxy mass)')\n",
    "plt.savefig('dist_ucdproxy_hostmass.png')"
   ]
  },
  {
   "cell_type": "code",
   "execution_count": 17,
   "id": "f02b46de-d4d4-46fa-8bb4-c5022526cb49",
   "metadata": {
    "tags": []
   },
   "outputs": [
    {
     "ename": "NameError",
     "evalue": "name 'dist' is not defined",
     "output_type": "error",
     "traceback": [
      "\u001b[0;31m---------------------------------------------------------------------------\u001b[0m",
      "\u001b[0;31mNameError\u001b[0m                                 Traceback (most recent call last)",
      "Cell \u001b[0;32mIn[17], line 1\u001b[0m\n\u001b[0;32m----> 1\u001b[0m plt\u001b[38;5;241m.\u001b[39mscatter(\u001b[43mdist\u001b[49m[ok],mass,c\u001b[38;5;241m=\u001b[39mnp\u001b[38;5;241m.\u001b[39mlog10(bh_mass[ok]),cmap\u001b[38;5;241m=\u001b[39m\u001b[38;5;124m'\u001b[39m\u001b[38;5;124mplasma\u001b[39m\u001b[38;5;124m'\u001b[39m,vmax \u001b[38;5;241m=\u001b[39m\u001b[38;5;241m7\u001b[39m,marker\u001b[38;5;241m=\u001b[39m\u001b[38;5;124m'\u001b[39m\u001b[38;5;124mp\u001b[39m\u001b[38;5;124m'\u001b[39m)\n\u001b[1;32m      2\u001b[0m plt\u001b[38;5;241m.\u001b[39myscale(\u001b[38;5;124m'\u001b[39m\u001b[38;5;124mlog\u001b[39m\u001b[38;5;124m'\u001b[39m)\n\u001b[1;32m      3\u001b[0m plt\u001b[38;5;241m.\u001b[39mcolorbar(label\u001b[38;5;241m=\u001b[39m\u001b[38;5;124m'\u001b[39m\u001b[38;5;124mLog10 BH Mass [M$_\u001b[39m\u001b[38;5;124m{\u001b[39m\u001b[38;5;124m\\\u001b[39m\u001b[38;5;124modot}$]\u001b[39m\u001b[38;5;124m'\u001b[39m)\n",
      "\u001b[0;31mNameError\u001b[0m: name 'dist' is not defined"
     ]
    }
   ],
   "source": [
    "plt.scatter(dist[ok],mass,c=np.log10(bh_mass[ok]),cmap='plasma',vmax =7,marker='p')\n",
    "plt.yscale('log')\n",
    "plt.colorbar(label='Log10 BH Mass [M$_{\\odot}$]')\n",
    "plt.xlabel('Distance from the centre of the cluster at z=0 [kpc]')\n",
    "plt.ylabel('Log10 Extrapolated Mstar within 0.7kpc [M$_{\\odot}$]')\n",
    "plt.savefig('ucdproxy_dist_bhmass.png')"
   ]
  },
  {
   "cell_type": "code",
   "execution_count": 21,
   "id": "c713c938-ed0a-47f8-b991-bc13fcb93e93",
   "metadata": {
    "tags": []
   },
   "outputs": [
    {
     "ename": "NameError",
     "evalue": "name 'gal_mass' is not defined",
     "output_type": "error",
     "traceback": [
      "\u001b[0;31m---------------------------------------------------------------------------\u001b[0m",
      "\u001b[0;31mNameError\u001b[0m                                 Traceback (most recent call last)",
      "Cell \u001b[0;32mIn[21], line 1\u001b[0m\n\u001b[0;32m----> 1\u001b[0m mass1\u001b[38;5;241m=\u001b[39mnp\u001b[38;5;241m.\u001b[39mwhere(np\u001b[38;5;241m.\u001b[39mlog10(\u001b[43mgal_mass\u001b[49m[ok])\u001b[38;5;241m<\u001b[39m\u001b[38;5;241m=\u001b[39m\u001b[38;5;241m8\u001b[39m)\n\u001b[1;32m      2\u001b[0m mass2\u001b[38;5;241m=\u001b[39mnp\u001b[38;5;241m.\u001b[39mwhere((np\u001b[38;5;241m.\u001b[39mlog10(gal_mass[ok])\u001b[38;5;241m>\u001b[39m\u001b[38;5;241m8\u001b[39m) \u001b[38;5;241m&\u001b[39m (np\u001b[38;5;241m.\u001b[39mlog10(gal_mass[ok])\u001b[38;5;241m<\u001b[39m\u001b[38;5;241m=\u001b[39m\u001b[38;5;241m9\u001b[39m))\n\u001b[1;32m      3\u001b[0m mass3\u001b[38;5;241m=\u001b[39mnp\u001b[38;5;241m.\u001b[39mwhere(np\u001b[38;5;241m.\u001b[39mlog10(gal_mass[ok])\u001b[38;5;241m>\u001b[39m\u001b[38;5;241m9\u001b[39m)\n",
      "\u001b[0;31mNameError\u001b[0m: name 'gal_mass' is not defined"
     ]
    }
   ],
   "source": [
    "mass1=np.where(np.log10(gal_mass[ok])<=8)\n",
    "mass2=np.where((np.log10(gal_mass[ok])>8) & (np.log10(gal_mass[ok])<=9))\n",
    "mass3=np.where(np.log10(gal_mass[ok])>9)\n",
    "plt.hist(dist[mass1],histtype='step',lw=3,density=True,bins=20,color='darkblue',label= 'Host Mass < 10$^8$')\n",
    "plt.hist(dist[mass2],histtype='step',lw=3,density=True,bins=20,color='mediumvioletred',label='Host Mass > 10$^8$ & <= 10$^9$')\n",
    "plt.hist(dist[mass3],histtype='step',lw=3,density=True,bins=20,color='orange',label='Host Mass > 10$^9$')\n",
    "plt.legend(loc='upper right')\n",
    "plt.ylabel('Frequency')\n",
    "plt.xlabel('Distance from the centre of the cluster at z=0 [kpc]')\n",
    "plt.savefig('dist_distibution_Mstar.png')"
   ]
  },
  {
   "cell_type": "code",
   "execution_count": 22,
   "id": "22a6a5b2-c02e-4273-ac98-4ad922916711",
   "metadata": {},
   "outputs": [
    {
     "ename": "NameError",
     "evalue": "name 'dist' is not defined",
     "output_type": "error",
     "traceback": [
      "\u001b[0;31m---------------------------------------------------------------------------\u001b[0m",
      "\u001b[0;31mNameError\u001b[0m                                 Traceback (most recent call last)",
      "Cell \u001b[0;32mIn[22], line 1\u001b[0m\n\u001b[0;32m----> 1\u001b[0m plt\u001b[38;5;241m.\u001b[39mscatter(\u001b[43mdist\u001b[49m[ok],mass,c\u001b[38;5;241m=\u001b[39mnp\u001b[38;5;241m.\u001b[39mlog10(gal_mass[ok]),cmap\u001b[38;5;241m=\u001b[39m\u001b[38;5;124m'\u001b[39m\u001b[38;5;124mplasma\u001b[39m\u001b[38;5;124m'\u001b[39m,marker\u001b[38;5;241m=\u001b[39m\u001b[38;5;124m'\u001b[39m\u001b[38;5;124mp\u001b[39m\u001b[38;5;124m'\u001b[39m)\n\u001b[1;32m      2\u001b[0m plt\u001b[38;5;241m.\u001b[39myscale(\u001b[38;5;124m'\u001b[39m\u001b[38;5;124mlog\u001b[39m\u001b[38;5;124m'\u001b[39m)\n\u001b[1;32m      3\u001b[0m plt\u001b[38;5;241m.\u001b[39mcolorbar(label\u001b[38;5;241m=\u001b[39m\u001b[38;5;124m'\u001b[39m\u001b[38;5;124mLog10 Origianl Host Galaxy Mstar [M$_\u001b[39m\u001b[38;5;124m{\u001b[39m\u001b[38;5;124m\\\u001b[39m\u001b[38;5;124modot}$]\u001b[39m\u001b[38;5;124m'\u001b[39m)\n",
      "\u001b[0;31mNameError\u001b[0m: name 'dist' is not defined"
     ]
    }
   ],
   "source": [
    "plt.scatter(dist[ok],mass,c=np.log10(gal_mass[ok]),cmap='plasma',marker='p')\n",
    "plt.yscale('log')\n",
    "plt.colorbar(label='Log10 Origianl Host Galaxy Mstar [M$_{\\odot}$]')\n",
    "plt.xlabel('Distance from the centre of the cluster at z=0 [kpc]')\n",
    "plt.ylabel('Log10 Extrapolated Mstar within 0.7kpc [M$_{\\odot}$] \\n (UCD proxy mass)')\n",
    "plt.savefig('dist_ucdproxy_hostmass.png')"
   ]
  },
  {
   "cell_type": "code",
   "execution_count": null,
   "id": "514a5508-f013-4c3c-b2f9-685349abd701",
   "metadata": {},
   "outputs": [],
   "source": []
  },
  {
   "cell_type": "code",
   "execution_count": null,
   "id": "543ca98b-5dc7-4fa2-88a8-8e67bc10c0d1",
   "metadata": {},
   "outputs": [],
   "source": []
  }
 ],
 "metadata": {
  "kernelspec": {
   "display_name": "Python 3 (ipykernel)",
   "language": "python",
   "name": "python3"
  },
  "language_info": {
   "codemirror_mode": {
    "name": "ipython",
    "version": 3
   },
   "file_extension": ".py",
   "mimetype": "text/x-python",
   "name": "python",
   "nbconvert_exporter": "python",
   "pygments_lexer": "ipython3",
   "version": "3.10.10"
  }
 },
 "nbformat": 4,
 "nbformat_minor": 5
}
